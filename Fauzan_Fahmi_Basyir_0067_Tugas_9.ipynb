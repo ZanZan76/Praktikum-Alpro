{
  "nbformat": 4,
  "nbformat_minor": 0,
  "metadata": {
    "colab": {
      "provenance": [],
      "authorship_tag": "ABX9TyOR1c4UaFr9ykDt0BNeoUv6",
      "include_colab_link": true
    },
    "kernelspec": {
      "name": "python3",
      "display_name": "Python 3"
    },
    "language_info": {
      "name": "python"
    }
  },
  "cells": [
    {
      "cell_type": "markdown",
      "metadata": {
        "id": "view-in-github",
        "colab_type": "text"
      },
      "source": [
        "<a href=\"https://colab.research.google.com/github/ZanZan76/Praktikum-Alpro/blob/main/Fauzan_Fahmi_Basyir_0067_Tugas_9.ipynb\" target=\"_parent\"><img src=\"https://colab.research.google.com/assets/colab-badge.svg\" alt=\"Open In Colab\"/></a>"
      ]
    },
    {
      "cell_type": "markdown",
      "source": [
        "1. List Buah"
      ],
      "metadata": {
        "id": "Cld7Lsshe_qC"
      }
    },
    {
      "cell_type": "code",
      "execution_count": 11,
      "metadata": {
        "colab": {
          "base_uri": "https://localhost:8080/"
        },
        "id": "Sr4U5Kifeclr",
        "outputId": "f807ace1-9799-4625-d16d-51f2d55a5e90"
      },
      "outputs": [
        {
          "output_type": "stream",
          "name": "stdout",
          "text": [
            "setelah ditambah : ['apel', 'mangga', 'jeruk', 'anggur', 'pisang', 'semangka']\n",
            "\n",
            "setelah disisipkan : ['apel', 'mangga', 'jeruk', 'durian', 'anggur', 'pisang', 'semangka']\n",
            "\n",
            "setelah dihapus : ['apel', 'jeruk', 'durian', 'anggur', 'pisang', 'semangka']\n",
            "\n",
            "setelah diganti : ['apel', 'jeruk', 'durian', 'anggur', 'pisang', 'nanas']\n",
            "\n",
            "setelah dipilih : ('apel', 'jeruk', 'durian')\n"
          ]
        }
      ],
      "source": [
        "buah = ['apel','mangga','jeruk','anggur','pisang']\n",
        "\n",
        "# a. Tambahkan 'semangka' di akhir list\n",
        "buah.append('semangka')\n",
        "print(f'setelah ditambah : {buah}\\n')\n",
        "\n",
        "# b. Sisipkan 'durian' diantara 'jeruk' dan 'anggur'\n",
        "buah.insert(3,'durian')\n",
        "print(f'setelah disisipkan : {buah}\\n')\n",
        "\n",
        "# c. Hapus 'mangga' dari list\n",
        "buah.remove('mangga')\n",
        "print(f'setelah dihapus : {buah}\\n')\n",
        "\n",
        "# d. Ubah 'pisang' menjadi 'nanas'\n",
        "buah[-1] = 'nanas'\n",
        "print(f'setelah diganti : {buah}\\n')\n",
        "\n",
        "# e. Tampilkan 3 buah pertama\n",
        "buah_0 = buah[0], buah[1], buah[2]\n",
        "print(f'setelah dipilih : {buah_0}')\n",
        "\n",
        "\n",
        "\n",
        "\n"
      ]
    },
    {
      "cell_type": "markdown",
      "source": [
        "2. Mengurutkan List Secara Ascending dan Descending"
      ],
      "metadata": {
        "id": "2y575Ytqi_2X"
      }
    },
    {
      "cell_type": "code",
      "source": [
        "angka = [45,12,78,23,56,89,34]\n",
        "\n",
        "angka.sort()\n",
        "print(f'Ascending : {angka}')\n",
        "\n",
        "angka.reverse()\n",
        "print(f'Descending : {angka}')\n"
      ],
      "metadata": {
        "colab": {
          "base_uri": "https://localhost:8080/"
        },
        "id": "SR1qrqoAf_i1",
        "outputId": "b448640e-9233-4a39-e494-24a860ef8e85"
      },
      "execution_count": 14,
      "outputs": [
        {
          "output_type": "stream",
          "name": "stdout",
          "text": [
            "Ascending : [12, 23, 34, 45, 56, 78, 89]\n",
            "Descending : [89, 78, 56, 45, 34, 23, 12]\n"
          ]
        }
      ]
    },
    {
      "cell_type": "code",
      "source": [],
      "metadata": {
        "id": "4VA4X-xlqdRS"
      },
      "execution_count": null,
      "outputs": []
    }
  ]
}